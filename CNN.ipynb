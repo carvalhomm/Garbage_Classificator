{
  "nbformat": 4,
  "nbformat_minor": 0,
  "metadata": {
    "colab": {
      "name": "CNN.ipynb",
      "provenance": [],
      "collapsed_sections": []
    },
    "kernelspec": {
      "name": "python3",
      "display_name": "Python 3"
    }
  },
  "cells": [
    {
      "cell_type": "code",
      "metadata": {
        "id": "d9CNClBv5ggz"
      },
      "source": [
        "import keras\n",
        "import os\n",
        "from keras.models import Sequential\n",
        "from keras.layers import Dense, Dropout, Flatten, Conv2D, MaxPooling2D\n",
        "from keras.layers import Dense\n",
        "from keras.layers import Dropout \n",
        "from keras.layers.normalization import BatchNormalization \n",
        "from keras.optimizers import SGD\n",
        "from matplotlib import pyplot as plt\n",
        "from google.colab import auth, drive\n",
        "from keras.preprocessing.image import load_img, img_to_array\n",
        "from PIL import Image\n",
        "from numpy import asarray\n",
        "import zipfile\n",
        "import numpy as np\n",
        "from keras.callbacks import TensorBoard # new! "
      ],
      "execution_count": null,
      "outputs": []
    },
    {
      "cell_type": "code",
      "metadata": {
        "id": "vzOL34bR6H9_",
        "colab": {
          "base_uri": "https://localhost:8080/"
        },
        "outputId": "c786f798-cf4a-449e-922e-32ed792ba934"
      },
      "source": [
        "drive.mount('/content/drive')"
      ],
      "execution_count": null,
      "outputs": [
        {
          "output_type": "stream",
          "text": [
            "Drive already mounted at /content/drive; to attempt to forcibly remount, call drive.mount(\"/content/drive\", force_remount=True).\n"
          ],
          "name": "stdout"
        }
      ]
    },
    {
      "cell_type": "code",
      "metadata": {
        "id": "tVLhSm0h0OEu"
      },
      "source": [
        "def get_txt_files(file_type):\n",
        "  path = None\n",
        "  if file_type is 1:\n",
        "    path = 'drive/MyDrive/TAA/one-indexed-files-notrash_train.txt' \n",
        "  else:\n",
        "    path = 'drive/MyDrive/TAA/one-indexed-files-notrash_val.txt'\n",
        "  file = open(path, mode='r')\n",
        "  classification = []\n",
        "  archives = []\n",
        "  labels = []\n",
        "  for line in file:\n",
        "    lines = line.replace('\\n', '').split(' ')\n",
        "    archives.append(lines[0])\n",
        "    labels.append(int(lines[1]) - 1) \n",
        "#    classification.append({'classification': int(lines[1]), 'archive': lines[0]})\n",
        "  return (archives, labels)"
      ],
      "execution_count": null,
      "outputs": []
    },
    {
      "cell_type": "code",
      "metadata": {
        "id": "5uHThGu871b0"
      },
      "source": [
        "  def get_image_as_array(image_path, gray_scale = False):\n",
        "    if gray_scale:\n",
        "      image = img_to_array(load_img(image_path, color_mode=\"grayscale\"))\n",
        "    else:\n",
        "      image = img_to_array(load_img(image_path)) \n",
        "    return img_to_array(image)\n",
        "    #return asarray(image)"
      ],
      "execution_count": null,
      "outputs": []
    },
    {
      "cell_type": "code",
      "metadata": {
        "id": "4dHIkX9oIABa"
      },
      "source": [
        "def resize_image(archive, image_path, new_width, new_height, destination_folder):\n",
        "  img = Image.open(image_path) # image extension *.png,*.jpg\n",
        "  img = img.resize((new_height, new_width), Image.ANTIALIAS)\n",
        "  img.save(destination_folder + archive) # format may what u want ,*.png,*jpg,*.gif"
      ],
      "execution_count": null,
      "outputs": []
    },
    {
      "cell_type": "code",
      "metadata": {
        "id": "uA4_I8YT1e2P"
      },
      "source": [
        "(train_archives, train_labels) = get_txt_files(1)\n",
        "(validation_archives, validation_labels) = get_txt_files(0)"
      ],
      "execution_count": null,
      "outputs": []
    },
    {
      "cell_type": "code",
      "metadata": {
        "id": "cB-3PgPiIBVt"
      },
      "source": [
        "# for archive in train_archives:\n",
        "#   path = 'drive/MyDrive/TAA/imgs/' + archive\n",
        "#   resize_image(archive, path, 230, 307, 'drive/MyDrive/TAA/imgs_230_x_307/')\n",
        "\n",
        "# for archive in validation_archives:\n",
        "#   path = 'drive/MyDrive/TAA/imgs/' + archive\n",
        "#   resize_image(archive, path, 230, 307, 'drive/MyDrive/TAA/imgs_230_x_307/')"
      ],
      "execution_count": null,
      "outputs": []
    },
    {
      "cell_type": "code",
      "metadata": {
        "id": "DjIHsU0RLazY"
      },
      "source": [
        "#  !unrar X 'drive/MyDrive/TAA/imgs.rar' 'drive/MyDrive/TAA'"
      ],
      "execution_count": null,
      "outputs": []
    },
    {
      "cell_type": "code",
      "metadata": {
        "id": "WZR6er9N-lNr"
      },
      "source": [
        "train_values = []\n",
        "validation_values = []\n",
        "\n",
        "for archive in train_archives:\n",
        "  path = 'drive/MyDrive/TAA/imgs_230_x_307/' + archive\n",
        "  train_values.append(get_image_as_array(path))\n",
        "\n",
        "for archive in validation_archives:\n",
        "  path = 'drive/MyDrive/TAA/imgs_230_x_307/' + archive\n",
        "  validation_values.append(get_image_as_array(path))"
      ],
      "execution_count": null,
      "outputs": []
    },
    {
      "cell_type": "code",
      "metadata": {
        "id": "27J5D4LpPFOE"
      },
      "source": [
        "train_values = np.array(train_values)\n",
        "validation_values = np.array(validation_values)"
      ],
      "execution_count": null,
      "outputs": []
    },
    {
      "cell_type": "code",
      "metadata": {
        "colab": {
          "base_uri": "https://localhost:8080/"
        },
        "id": "Wbj4EztydJgY",
        "outputId": "f739cadc-7ea0-44c1-db93-249b1cf74a92"
      },
      "source": [
        "train_values.shape"
      ],
      "execution_count": null,
      "outputs": [
        {
          "output_type": "execute_result",
          "data": {
            "text/plain": [
              "(1768, 230, 307, 3)"
            ]
          },
          "metadata": {
            "tags": []
          },
          "execution_count": 8
        }
      ]
    },
    {
      "cell_type": "code",
      "metadata": {
        "colab": {
          "base_uri": "https://localhost:8080/"
        },
        "id": "GeuPK5HQdOWr",
        "outputId": "071aec27-057f-4432-ce2b-8b6fc713088c"
      },
      "source": [
        "validation_values.shape"
      ],
      "execution_count": null,
      "outputs": [
        {
          "output_type": "execute_result",
          "data": {
            "text/plain": [
              "(328, 230, 307, 3)"
            ]
          },
          "metadata": {
            "tags": []
          },
          "execution_count": 9
        }
      ]
    },
    {
      "cell_type": "code",
      "metadata": {
        "id": "HQKoTU3FPSyl"
      },
      "source": [
        "# train_values = train_values.reshape(1768, 196608).astype('float32')\n",
        "# validation_values = validation_values.reshape(328, 196608).astype('float32')"
      ],
      "execution_count": null,
      "outputs": []
    },
    {
      "cell_type": "code",
      "metadata": {
        "id": "Goz-qTvUQSwh"
      },
      "source": [
        "train_values /= 255\n",
        "validation_values /= 255"
      ],
      "execution_count": null,
      "outputs": []
    },
    {
      "cell_type": "code",
      "metadata": {
        "id": "RjZ41ZL9Qnwd"
      },
      "source": [
        "n_classes = 6\n",
        "train_labels = keras.utils.to_categorical(train_labels, n_classes)\n",
        "validation_labels = keras.utils.to_categorical(validation_labels, n_classes)"
      ],
      "execution_count": null,
      "outputs": []
    },
    {
      "cell_type": "code",
      "metadata": {
        "colab": {
          "base_uri": "https://localhost:8080/"
        },
        "id": "a4fhjv8EZRnm",
        "outputId": "78ca7d25-d12e-4f79-9f1c-5b2aea19240a"
      },
      "source": [
        "train_labels"
      ],
      "execution_count": null,
      "outputs": [
        {
          "output_type": "execute_result",
          "data": {
            "text/plain": [
              "array([[0., 0., 1., 0., 0., 0.],\n",
              "       [0., 1., 0., 0., 0., 0.],\n",
              "       [0., 1., 0., 0., 0., 0.],\n",
              "       ...,\n",
              "       [0., 0., 0., 0., 1., 0.],\n",
              "       [0., 0., 0., 1., 0., 0.],\n",
              "       [0., 1., 0., 0., 0., 0.]], dtype=float32)"
            ]
          },
          "metadata": {
            "tags": []
          },
          "execution_count": 21
        }
      ]
    },
    {
      "cell_type": "code",
      "metadata": {
        "id": "Zzo7qCkJUL3S"
      },
      "source": [
        "model = Sequential()\n",
        "\n",
        "model.add(Conv2D(64, 3, activation='relu', input_shape=(230, 307, 3)))\n",
        "model.add(Conv2D(64, (3,3), activation='relu'))\n",
        "model.add(MaxPooling2D(2,2))\n",
        "model.add(BatchNormalization())\n",
        "\n",
        "model.add(Conv2D(128, (3,3), activation='relu'))\n",
        "model.add(Conv2D(128, 3, activation='relu'))\n",
        "model.add(Conv2D(128, 3, activation='relu'))\n",
        "model.add(MaxPooling2D(2,2))\n",
        "model.add(BatchNormalization())\n",
        "\n",
        "model.add(Conv2D(256, (3,3), activation='relu'))\n",
        "model.add(Conv2D(256, 3, activation='relu'))\n",
        "model.add(Conv2D(256, 3, activation='relu'))\n",
        "model.add(MaxPooling2D(2,2))\n",
        "model.add(BatchNormalization())\n",
        "\n",
        "model.add(Conv2D(512, (3,3), activation='relu'))\n",
        "model.add(Conv2D(512, 3, activation='relu'))\n",
        "model.add(Conv2D(512, 3, activation='relu'))\n",
        "model.add(MaxPooling2D(2,2))\n",
        "model.add(BatchNormalization())\n",
        "\n",
        "model.add(Conv2D(1024, (3,3), activation='relu'))\n",
        "model.add(Conv2D(1024, 3, activation='relu'))\n",
        "model.add(Conv2D(1024, 3, activation='relu'))\n",
        "model.add(MaxPooling2D(2,2))\n",
        "model.add(BatchNormalization())\n",
        "\n",
        "model.add(Flatten())\n",
        "model.add(Dense(4096, activation='relu'))\n",
        "model.add(Dropout(0.3))\n",
        "model.add(Dense(4096, activation='relu'))\n",
        "model.add(Dropout(0.5))\n",
        "\n",
        "model.add(Dense(6, activation='softmax'))"
      ],
      "execution_count": null,
      "outputs": []
    },
    {
      "cell_type": "code",
      "metadata": {
        "colab": {
          "base_uri": "https://localhost:8080/"
        },
        "id": "Oz2hXaTpSv1h",
        "outputId": "9a339005-4813-49ca-eee9-44da6e37dde0"
      },
      "source": [
        "model.summary()"
      ],
      "execution_count": null,
      "outputs": [
        {
          "output_type": "stream",
          "text": [
            "Model: \"sequential\"\n",
            "_________________________________________________________________\n",
            "Layer (type)                 Output Shape              Param #   \n",
            "=================================================================\n",
            "conv2d (Conv2D)              (None, 228, 305, 64)      1792      \n",
            "_________________________________________________________________\n",
            "conv2d_1 (Conv2D)            (None, 226, 303, 64)      36928     \n",
            "_________________________________________________________________\n",
            "max_pooling2d (MaxPooling2D) (None, 113, 151, 64)      0         \n",
            "_________________________________________________________________\n",
            "batch_normalization (BatchNo (None, 113, 151, 64)      256       \n",
            "_________________________________________________________________\n",
            "conv2d_2 (Conv2D)            (None, 111, 149, 128)     73856     \n",
            "_________________________________________________________________\n",
            "conv2d_3 (Conv2D)            (None, 109, 147, 128)     147584    \n",
            "_________________________________________________________________\n",
            "conv2d_4 (Conv2D)            (None, 107, 145, 128)     147584    \n",
            "_________________________________________________________________\n",
            "max_pooling2d_1 (MaxPooling2 (None, 53, 72, 128)       0         \n",
            "_________________________________________________________________\n",
            "batch_normalization_1 (Batch (None, 53, 72, 128)       512       \n",
            "_________________________________________________________________\n",
            "conv2d_5 (Conv2D)            (None, 51, 70, 256)       295168    \n",
            "_________________________________________________________________\n",
            "conv2d_6 (Conv2D)            (None, 49, 68, 256)       590080    \n",
            "_________________________________________________________________\n",
            "conv2d_7 (Conv2D)            (None, 47, 66, 256)       590080    \n",
            "_________________________________________________________________\n",
            "max_pooling2d_2 (MaxPooling2 (None, 23, 33, 256)       0         \n",
            "_________________________________________________________________\n",
            "batch_normalization_2 (Batch (None, 23, 33, 256)       1024      \n",
            "_________________________________________________________________\n",
            "conv2d_8 (Conv2D)            (None, 21, 31, 512)       1180160   \n",
            "_________________________________________________________________\n",
            "conv2d_9 (Conv2D)            (None, 19, 29, 512)       2359808   \n",
            "_________________________________________________________________\n",
            "conv2d_10 (Conv2D)           (None, 17, 27, 512)       2359808   \n",
            "_________________________________________________________________\n",
            "max_pooling2d_3 (MaxPooling2 (None, 8, 13, 512)        0         \n",
            "_________________________________________________________________\n",
            "batch_normalization_3 (Batch (None, 8, 13, 512)        2048      \n",
            "_________________________________________________________________\n",
            "conv2d_11 (Conv2D)           (None, 6, 11, 1024)       4719616   \n",
            "_________________________________________________________________\n",
            "conv2d_12 (Conv2D)           (None, 4, 9, 1024)        9438208   \n",
            "_________________________________________________________________\n",
            "conv2d_13 (Conv2D)           (None, 2, 7, 1024)        9438208   \n",
            "_________________________________________________________________\n",
            "max_pooling2d_4 (MaxPooling2 (None, 1, 3, 1024)        0         \n",
            "_________________________________________________________________\n",
            "batch_normalization_4 (Batch (None, 1, 3, 1024)        4096      \n",
            "_________________________________________________________________\n",
            "flatten (Flatten)            (None, 3072)              0         \n",
            "_________________________________________________________________\n",
            "dense (Dense)                (None, 4096)              12587008  \n",
            "_________________________________________________________________\n",
            "dropout (Dropout)            (None, 4096)              0         \n",
            "_________________________________________________________________\n",
            "dense_1 (Dense)              (None, 4096)              16781312  \n",
            "_________________________________________________________________\n",
            "dropout_1 (Dropout)          (None, 4096)              0         \n",
            "_________________________________________________________________\n",
            "dense_2 (Dense)              (None, 6)                 24582     \n",
            "=================================================================\n",
            "Total params: 60,779,718\n",
            "Trainable params: 60,775,750\n",
            "Non-trainable params: 3,968\n",
            "_________________________________________________________________\n"
          ],
          "name": "stdout"
        }
      ]
    },
    {
      "cell_type": "code",
      "metadata": {
        "id": "RFgDcWv2VGnA"
      },
      "source": [
        "model.compile(loss='categorical_crossentropy', optimizer='adam', metrics=['accuracy'])"
      ],
      "execution_count": null,
      "outputs": []
    },
    {
      "cell_type": "code",
      "metadata": {
        "colab": {
          "base_uri": "https://localhost:8080/"
        },
        "id": "Wn7I9W_WV08b",
        "outputId": "5137db41-c3c1-48bf-a553-aeb3b7a45205"
      },
      "source": [
        "model.fit(\n",
        "          train_values, train_labels,\n",
        "          batch_size=64,\n",
        "          epochs=100,\n",
        "          verbose=1,\n",
        "          validation_data=(validation_values, validation_labels)\n",
        "          )"
      ],
      "execution_count": null,
      "outputs": [
        {
          "output_type": "stream",
          "text": [
            "Epoch 1/100\n",
            "28/28 [==============================] - 4043s 144s/step - loss: 5.4990 - accuracy: 0.2423 - val_loss: 151.7828 - val_accuracy: 0.1402\n",
            "Epoch 2/100\n",
            "28/28 [==============================] - 4022s 144s/step - loss: 2.6372 - accuracy: 0.2452 - val_loss: 24.9887 - val_accuracy: 0.1402\n",
            "Epoch 3/100\n",
            "28/28 [==============================] - 3998s 143s/step - loss: 2.0831 - accuracy: 0.2648 - val_loss: 5.8581 - val_accuracy: 0.2530\n",
            "Epoch 4/100\n",
            "28/28 [==============================] - 4016s 144s/step - loss: 1.6887 - accuracy: 0.3376 - val_loss: 3.0520 - val_accuracy: 0.2348\n",
            "Epoch 5/100\n",
            "28/28 [==============================] - 4009s 143s/step - loss: 1.6438 - accuracy: 0.3867 - val_loss: 3.1494 - val_accuracy: 0.2256\n",
            "Epoch 6/100\n",
            " 4/28 [===>..........................] - ETA: 55:03 - loss: 1.5911 - accuracy: 0.4040"
          ],
          "name": "stdout"
        }
      ]
    }
  ]
}